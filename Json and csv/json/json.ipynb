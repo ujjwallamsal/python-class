{
 "cells": [
  {
   "cell_type": "code",
   "execution_count": 1,
   "metadata": {},
   "outputs": [
    {
     "name": "stdout",
     "output_type": "stream",
     "text": [
      "\n",
      "{\n",
      "    \"student_name\": [\n",
      "    {\n",
      "        \"name\": \"yogesh khanal\",\n",
      "        \"phone\": \"59834790\",\n",
      "        \"emails\": [\"yogesh.khanal@gmail.com\"],\n",
      "        \"has_liscense\": false\n",
      "    },\n",
      "    {\n",
      "        \"name\": \"khushilal singh\",\n",
      "        \"phone\": \"598347323\",\n",
      "        \"emails\": null,\n",
      "        \"has_liscense\": true\n",
      "          \n",
      "    }\n",
      "    ]\n",
      "}\n",
      "\n",
      "<class 'str'>\n",
      "{'student_name': [{'name': 'yogesh khanal', 'phone': '59834790', 'emails': ['yogesh.khanal@gmail.com'], 'has_liscense': False}, {'name': 'khushilal singh', 'phone': '598347323', 'emails': None, 'has_liscense': True}]}\n"
     ]
    }
   ],
   "source": [
    "import json\n",
    "coursely_string = '''\n",
    "{\n",
    "    \"student_name\": [\n",
    "    {\n",
    "        \"name\": \"yogesh khanal\",\n",
    "        \"phone\": \"59834790\",\n",
    "        \"emails\": [\"yogesh.khanal@gmail.com\"],\n",
    "        \"has_liscense\": false\n",
    "    },\n",
    "    {\n",
    "        \"name\": \"khushilal singh\",\n",
    "        \"phone\": \"598347323\",\n",
    "        \"emails\": null,\n",
    "        \"has_liscense\": true\n",
    "          \n",
    "    }\n",
    "    ]\n",
    "}\n",
    "'''\n",
    "print(coursely_string)\n",
    "print(type(coursely_string))\n",
    "data =  json.loads(coursely_string)\n",
    "print(data)\n"
   ]
  },
  {
   "cell_type": "code",
   "execution_count": 2,
   "metadata": {},
   "outputs": [
    {
     "name": "stdout",
     "output_type": "stream",
     "text": [
      "{'student_name': [{'name': 'yogesh khanal', 'phone': '59834790', 'emails': ['yogesh.khanal@gmail.com'], 'has_liscense': False}, {'name': 'khushilal singh', 'phone': '598347323', 'emails': None, 'has_liscense': True}]}\n",
      "<class 'dict'>\n"
     ]
    }
   ],
   "source": [
    "data =  json.loads(coursely_string)\n",
    "print(data)\n",
    "print(type(data))"
   ]
  },
  {
   "cell_type": "code",
   "execution_count": 4,
   "metadata": {},
   "outputs": [
    {
     "name": "stdout",
     "output_type": "stream",
     "text": [
      "yogesh khanal\n",
      "59834790\n",
      "['yogesh.khanal@gmail.com']\n",
      "False\n",
      "khushilal singh\n",
      "598347323\n",
      "None\n",
      "True\n"
     ]
    }
   ],
   "source": [
    "for student_name in data['student_name']:\n",
    "    print(student_name['name'])\n",
    "    print(student_name['phone'])\n",
    "    print(student_name['emails'])\n",
    "    print(student_name['has_liscense'])\n",
    "    \n",
    "\n",
    "\n"
   ]
  },
  {
   "cell_type": "code",
   "execution_count": null,
   "metadata": {},
   "outputs": [],
   "source": []
  }
 ],
 "metadata": {
  "interpreter": {
   "hash": "4f089d5d4fecc9b26343308b996fdd689be150f0b9db90d9fd8a6c55a5fc822c"
  },
  "kernelspec": {
   "display_name": "Python 3.7.8rc1 64-bit",
   "language": "python",
   "name": "python3"
  },
  "language_info": {
   "codemirror_mode": {
    "name": "ipython",
    "version": 3
   },
   "file_extension": ".py",
   "mimetype": "text/x-python",
   "name": "python",
   "nbconvert_exporter": "python",
   "pygments_lexer": "ipython3",
   "version": "3.7.8"
  },
  "orig_nbformat": 4
 },
 "nbformat": 4,
 "nbformat_minor": 2
}
