{
 "cells": [
  {
   "cell_type": "code",
   "execution_count": 11,
   "metadata": {},
   "outputs": [
    {
     "name": "stdout",
     "output_type": "stream",
     "text": [
      "{'bagmati': [{'district': 'bhaktapur', 'headquarter': 'bhaktapur'}, {'district': 'dhading', 'headquarter': 'dhading besi'}, {'district': 'kathmandu', 'headquarter': 'kathmandu'}, {'district': 'kavre', 'headquarter': 'dhulikhel'}, {'district': 'lalitpur', 'headquarter': 'patan'}, {'district': 'nuwakot', 'headquarter': 'bidur'}, {'district': 'rasuwa', 'headquarter': 'dhunche'}, {'district': 'sindhupalchok', 'headquarter': 'chautara'}], 'bheri': [{'district': 'banke', 'headquarter': 'nepalgunj'}, {'district': 'bardiya', 'headquarter': 'gulariya'}, {'district': 'dailekh', 'headquarter': 'dullu'}, {'district': 'jajarkot', 'headquarter': 'khalanga'}, {'district': 'surkhet', 'headquarter': 'surkhet'}], 'dhawalagiri': [{'district': 'baglung', 'headquarter': 'baglung'}, {'district': 'mustang', 'headquarter': 'jomsom'}, {'district': 'myagdi', 'headquarter': 'beni'}, {'district': 'parbat', 'headquarter': 'kusma'}], 'gandaki': [{'district': 'gorkha', 'headquarter': 'gorkha'}, {'district': 'kaski', 'headquarter': 'pokhara'}, {'district': 'lamjung', 'headquarter': 'bensi sahar'}, {'district': 'manang', 'headquarter': 'chame'}, {'district': 'syangja', 'headquarter': 'syangja'}, {'district': 'tanahu', 'headquarter': 'damauli'}], 'janakpur': [{'district': 'dhanusa', 'headquarter': 'janakpur'}, {'district': 'dholkha', 'headquarter': 'charikot'}, {'district': 'mahottari', 'headquarter': 'jaleswor'}, {'district': 'ramechhap', 'headquarter': 'manthali'}, {'district': 'sarlahi', 'headquarter': 'malangwa'}, {'district': 'sindhuli', 'headquarter': 'sindhuli madhi'}], 'karnali': [{'district': 'dolpa', 'headquarter': 'dolpa'}, {'district': 'humla', 'headquarter': 'simikot'}, {'district': 'jumla', 'headquarter': 'jumla khalanga'}, {'district': 'kalikot', 'headquarter': 'kalikot'}, {'district': 'mugu', 'headquarter': 'gamgadhi'}], 'koshi': [{'district': 'bhojpur', 'headquarter': 'bhojpur'}, {'district': 'dhankuta', 'headquarter': 'dhankuta'}, {'district': 'morang', 'headquarter': 'biratnagar'}, {'district': 'sankhuwasabha', 'headquarter': 'khandbari'}, {'district': 'sunsari', 'headquarter': 'inaruwa'}, {'district': 'terhathum', 'headquarter': 'manglung'}], 'lumbini': [{'district': 'arghakhanchi', 'headquarter': 'sandhikharka'}, {'district': 'gulmi', 'headquarter': 'tamghas'}, {'district': 'kapilvastu', 'headquarter': 'taulihawa'}, {'district': 'nawalparasi', 'headquarter': 'parasi'}, {'district': 'palpa', 'headquarter': 'tansen'}, {'district': 'rupandehi', 'headquarter': 'bhairahawa'}], 'mahakali': [{'district': 'baitadi', 'headquarter': 'baitadi'}, {'district': 'dadeldhura', 'headquarter': 'dadeldhura'}, {'district': 'darchula', 'headquarter': 'darchula'}, {'district': 'kanchanpur', 'headquarter': 'mahendara nagar'}], 'mechi': [{'district': 'ilam', 'headquarter': 'ilam'}, {'district': 'jhapa', 'headquarter': 'chandragadhi'}, {'district': 'panchthar', 'headquarter': 'phidim'}, {'district': 'taplejung', 'headquarter': 'taplejung'}], 'narayani': [{'district': 'bara', 'headquarter': 'kalaiya'}, {'district': 'chitwan', 'headquarter': 'bharatpur'}, {'district': 'makwanpur', 'headquarter': 'hetauda'}, {'district': 'parsa', 'headquarter': 'birgunj'}, {'district': 'rautahat', 'headquarter': 'gaur'}], 'rapti': [{'district': 'dang deukhuri', 'headquarter': 'ghorahi'}, {'district': 'pyuthan', 'headquarter': 'pyuthan khalanga'}, {'district': 'rolpa', 'headquarter': 'liwang'}, {'district': 'rukum', 'headquarter': 'musikot'}, {'district': 'salyan', 'headquarter': 'salyan khalanga'}], 'sagarmatha': [{'district': 'khotang', 'headquarter': 'diktel'}, {'district': 'okhaldhunga', 'headquarter': 'okhaldhunga'}, {'district': 'saptari', 'headquarter': 'rajbiraj'}, {'district': 'siraha', 'headquarter': 'siraha'}, {'district': 'solukhumbu', 'headquarter': 'salleri'}, {'district': 'udayapur', 'headquarter': 'gaighat'}], 'seti': [{'district': 'achham', 'headquarter': 'mangalsen'}, {'district': 'bajhang', 'headquarter': 'chainpur'}, {'district': 'bajura', 'headquarter': 'martadi'}, {'district': 'doti', 'headquarter': 'dipayal'}, {'district': 'kailali', 'headquarter': 'dhangadhi'}]}\n",
      "<class 'dict'>\n",
      "<class 'dict'>\n"
     ]
    }
   ],
   "source": [
    "import json\n",
    "\n",
    "with open('.\\json\\zones_with_district_headquarters.json') as f:\n",
    "  data = json.load(f) \n",
    "\n",
    "print(data)\n",
    "print(type(data))\n",
    "print(type(data))\n"
   ]
  },
  {
   "cell_type": "code",
   "execution_count": 21,
   "metadata": {},
   "outputs": [
    {
     "name": "stdout",
     "output_type": "stream",
     "text": [
      "{'district': 'bhaktapur', 'headquarter': 'bhaktapur'}\n",
      "{'district': 'dhading', 'headquarter': 'dhading besi'}\n",
      "{'district': 'kathmandu', 'headquarter': 'kathmandu'}\n",
      "{'district': 'kavre', 'headquarter': 'dhulikhel'}\n",
      "{'district': 'lalitpur', 'headquarter': 'patan'}\n",
      "{'district': 'nuwakot', 'headquarter': 'bidur'}\n",
      "{'district': 'rasuwa', 'headquarter': 'dhunche'}\n",
      "{'district': 'sindhupalchok', 'headquarter': 'chautara'}\n",
      "<class 'dict'>\n"
     ]
    }
   ],
   "source": [
    "for district in data ['bagmati']:\n",
    "    print(district)\n",
    "print(type(district))\n",
    "bagmati_district = data['bagmati']"
   ]
  },
  {
   "cell_type": "code",
   "execution_count": 23,
   "metadata": {},
   "outputs": [],
   "source": [
    "with open('bagmati_zone_with_district.json', 'w') as f:\n",
    "  json.dump(bagmati_district, f, indent=2)"
   ]
  },
  {
   "cell_type": "code",
   "execution_count": 24,
   "metadata": {},
   "outputs": [
    {
     "name": "stdout",
     "output_type": "stream",
     "text": [
      "[{'district': 'bhaktapur', 'headquarter': 'bhaktapur'}, {'district': 'dhading', 'headquarter': 'dhading besi'}, {'district': 'kathmandu', 'headquarter': 'kathmandu'}, {'district': 'kavre', 'headquarter': 'dhulikhel'}, {'district': 'lalitpur', 'headquarter': 'patan'}, {'district': 'nuwakot', 'headquarter': 'bidur'}, {'district': 'rasuwa', 'headquarter': 'dhunche'}, {'district': 'sindhupalchok', 'headquarter': 'chautara'}]\n",
      "<class 'list'>\n"
     ]
    }
   ],
   "source": [
    "with open('bagmati_zone_with_district.json' , 'r') as f:\n",
    "    data = json.load(f)\n",
    "print(data)\n",
    "print(type(data))"
   ]
  },
  {
   "cell_type": "code",
   "execution_count": 36,
   "metadata": {},
   "outputs": [
    {
     "name": "stdout",
     "output_type": "stream",
     "text": [
      "{'district': 'kavre', 'headquarter': 'dhulikhel'}\n",
      "<class 'dict'>\n"
     ]
    }
   ],
   "source": [
    "a = data\n",
    "b = a[3]\n",
    "print(b)\n",
    "print(type(b))"
   ]
  },
  {
   "cell_type": "code",
   "execution_count": 41,
   "metadata": {},
   "outputs": [
    {
     "name": "stdout",
     "output_type": "stream",
     "text": [
      "kavre\n"
     ]
    }
   ],
   "source": [
    "c = b.get('district')\n",
    "print(c)"
   ]
  },
  {
   "cell_type": "code",
   "execution_count": 43,
   "metadata": {},
   "outputs": [
    {
     "name": "stdout",
     "output_type": "stream",
     "text": [
      "dhulikhel\n"
     ]
    }
   ],
   "source": [
    "d = b.get('headquarter')\n",
    "print(d)"
   ]
  },
  {
   "cell_type": "code",
   "execution_count": 45,
   "metadata": {},
   "outputs": [
    {
     "name": "stdout",
     "output_type": "stream",
     "text": [
      "{'district': 'kavre', 'headquarter': 'dhulikhel'}\n"
     ]
    }
   ],
   "source": [
    "print (b)"
   ]
  },
  {
   "cell_type": "code",
   "execution_count": null,
   "metadata": {},
   "outputs": [],
   "source": []
  }
 ],
 "metadata": {
  "interpreter": {
   "hash": "4f089d5d4fecc9b26343308b996fdd689be150f0b9db90d9fd8a6c55a5fc822c"
  },
  "kernelspec": {
   "display_name": "Python 3.7.8rc1 64-bit",
   "language": "python",
   "name": "python3"
  },
  "language_info": {
   "codemirror_mode": {
    "name": "ipython",
    "version": 3
   },
   "file_extension": ".py",
   "mimetype": "text/x-python",
   "name": "python",
   "nbconvert_exporter": "python",
   "pygments_lexer": "ipython3",
   "version": "3.7.8"
  },
  "orig_nbformat": 4
 },
 "nbformat": 4,
 "nbformat_minor": 2
}
